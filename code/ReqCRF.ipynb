{
 "metadata": {
  "language_info": {
   "codemirror_mode": {
    "name": "ipython",
    "version": 3
   },
   "file_extension": ".py",
   "mimetype": "text/x-python",
   "name": "python",
   "nbconvert_exporter": "python",
   "pygments_lexer": "ipython3",
   "version": "3.7.8-final"
  },
  "orig_nbformat": 2,
  "kernelspec": {
   "name": "python3",
   "display_name": "Python 3.7.8 64-bit",
   "metadata": {
    "interpreter": {
     "hash": "57baa5815c940fdaff4d14510622de9616cae602444507ba5d0b6727c008cbd6"
    }
   }
  }
 },
 "nbformat": 4,
 "nbformat_minor": 2,
 "cells": [
  {
   "source": [
    "# ReqCRF\n",
    "\n",
    "by Tooraj Helmi (thelmi@usc.edu)"
   ],
   "cell_type": "markdown",
   "metadata": {}
  },
  {
   "source": [
    "## Introduction\n",
    "ReqCRF is a model based on BILSTM and CRF used to tag requirments based on the grammar explained in the paper. \n",
    "\n",
    "Note: I ran this code locally on Windows. "
   ],
   "cell_type": "markdown",
   "metadata": {}
  },
  {
   "source": [
    "## Configurations"
   ],
   "cell_type": "markdown",
   "metadata": {}
  },
  {
   "cell_type": "code",
   "execution_count": null,
   "metadata": {},
   "outputs": [],
   "source": [
    "use_embedding = False\n",
    "parse_data = False\n",
    "encoding = 'word' # 'word' 'word+pos'\n",
    "tag = 'TAG7' \n",
    "max_len = 50\n",
    "apps = [ 'Trading', 'TicTacToe','WordGuess', 'News', 'Food Delivery', 'Calendar', 'Bank']\n",
    "data_path = '..\\\\data\\\\'"
   ]
  },
  {
   "source": [
    "## Parsing\n",
    "\n",
    "If parse_data is set to True, the following code will parse a plain text requirement file, break it down to words and POS tags and make it ready for applying NER tags. \n",
    "Note: Make sure to rename input and output files to match you need."
   ],
   "cell_type": "markdown",
   "metadata": {}
  },
  {
   "cell_type": "code",
   "execution_count": null,
   "metadata": {
    "tags": []
   },
   "outputs": [],
   "source": [
    "from nltk import word_tokenize \n",
    "from nltk import RegexpTokenizer\n",
    "from nltk.stem.wordnet import WordNetLemmatizer\n",
    "from nltk import pos_tag\n",
    "from nltk.corpus import stopwords \n",
    "import string\n",
    "import pandas as pd\n",
    "import numpy as np\n",
    "\n",
    "if parse_data:\n",
    "    reqset = pd.read_csv(data_path + \"Reqset-train.csv\", names=[\"SENT\", \"APP\", \"REQ\"], skiprows=range(1))\n",
    "    reqset.head(10)\n",
    "\n",
    "    reqs = reqset[\"REQ\"].to_list()\n",
    "    print(reqs[0])\n",
    "    n_req = len(reqs); n_req\n",
    "    \n",
    "    sents = []\n",
    "    for  req in reqs:\n",
    "        for sent in req.split('.'):\n",
    "            sents.append([reqs.index(req), sent])\n",
    "    n_sent = len(sents); n_sent\n",
    "\n",
    "    lemmetizer = WordNetLemmatizer() \n",
    "    no_punc_tokenizer = RegexpTokenizer(r\"\\w+\")\n",
    "    # st = StanfordPOSTagger('C:/Users/thelm/AppData/Roaming/nltk_data/taggers/stanford-tagger-4.1.0/stanford-postagger-full-2020-08-06/models/english-bidirectional-distsim.tagger', 'C:/Users/thelm/AppData/Roaming/nltk_data/taggers/stanford-tagger-4.1.0/stanford-postagger-full-2020-08-06/stanford-postagger.jar', encoding='utf8')\n",
    "\n",
    "    dataset = []\n",
    "    dataset = pd.DataFrame(columns=['APP', 'REQ', 'SENT', 'WORD', 'POS', 'TAG']) \n",
    "    for sent in sents:\n",
    "        tokens = word_tokenize(sent[1])\n",
    "        # tokens = [word_tokenize(token.lower()) for seq in tokens for token in seq]\n",
    "        # tokens = [no_punc_tokenizer.tokenize(token.lower()) for seq in tokens for token in seq]  \n",
    "        print(tokens)  \n",
    "        tagged = pos_tag(tokens)\n",
    "        df = pd.DataFrame(tagged, columns=['WORD', 'POS']) \n",
    "        df['TAG'] = 'O'\n",
    "        df['APP'] = reqset.at[sent[0], 'APP']\n",
    "        df['REQ'] = sent[0]\n",
    "        df['SENT'] = sents.index(sent)\n",
    "        dataset = dataset.append(df, ignore_index = True)\n",
    "    dataset.to_csv(data_path +  \"reqset-train-tagged-new.csv\")\n",
    "    dataset.head(20)\n"
   ]
  },
  {
   "source": [
    "## Load Data\n",
    "Loads the tagged dataset "
   ],
   "cell_type": "markdown",
   "metadata": {}
  },
  {
   "cell_type": "code",
   "execution_count": null,
   "metadata": {},
   "outputs": [],
   "source": [
    "import pandas as pd\n",
    "import numpy as np\n",
    "\n",
    "data = pd.read_csv(data_path + \"reqset-train-tagged.csv\", encoding=\"latin1\")\n",
    "data = data.fillna(value=np.NaN)\n",
    "data = data.dropna(thresh=2)\n",
    "data = data[data[tag].notnull()]\n",
    "data = data[data['APP'].isin(apps)]\n",
    "data = data[[\"SENT\", \"WORD\", \"POS\", tag]]\n",
    "data.tail(10)\n",
    "print(data.count)"
   ]
  },
  {
   "source": [
    "## Preprocessing\n",
    "The following sections apply indexes to works and labels. Optionally is can also apply GloVe embbeding."
   ],
   "cell_type": "markdown",
   "metadata": {}
  },
  {
   "cell_type": "code",
   "execution_count": null,
   "metadata": {},
   "outputs": [],
   "source": [
    "from nltk.corpus import stopwords \n",
    "\n",
    "words = [w.lower() for w in list(set(data[\"WORD\"].values))]\n",
    "n_words = len(words); n_words"
   ]
  },
  {
   "cell_type": "code",
   "execution_count": null,
   "metadata": {},
   "outputs": [],
   "source": [
    "tags = list(set(data[tag].values))\n",
    "n_tags = len(tags); n_tags\n",
    "print(tags)"
   ]
  },
  {
   "cell_type": "code",
   "execution_count": null,
   "metadata": {},
   "outputs": [],
   "source": [
    "pos = list(set(data['POS'].values))\n",
    "n_pos = len(pos); n_pos"
   ]
  },
  {
   "cell_type": "code",
   "execution_count": null,
   "metadata": {},
   "outputs": [],
   "source": [
    "class SentenceGetter(object):  \n",
    "    def __init__(self, data, tag):\n",
    "        self.n_sent = 95\n",
    "        self.data = data\n",
    "        self.empty = False\n",
    "        agg_func = lambda s: [(w, p, t) for w, p, t in zip(s[\"WORD\"].values.tolist(),\n",
    "                                                           s[\"POS\"].values.tolist(),\n",
    "                                                           s[tag].values.tolist())]\n",
    "        self.grouped = self.data.groupby(\"SENT\").apply(agg_func)\n",
    "        self.sentences = [s for s in self.grouped]\n",
    "    \n",
    "    def get_next(self):\n",
    "        try:\n",
    "            s = self.grouped[self.n_sent]\n",
    "            self.n_sent += 1\n",
    "            return s\n",
    "        except:\n",
    "            return None"
   ]
  },
  {
   "cell_type": "code",
   "execution_count": null,
   "metadata": {},
   "outputs": [],
   "source": [
    "getter = SentenceGetter(data, tag)\n",
    "sentences = getter.sentences\n",
    "sent = getter.get_next()\n",
    "print(sent)"
   ]
  },
  {
   "source": [
    "### Glove Embedding\n",
    "If use_embedding is True, and the glove.6B.50d.txt is available in the data folder will embed tokens"
   ],
   "cell_type": "markdown",
   "metadata": {}
  },
  {
   "cell_type": "code",
   "execution_count": null,
   "metadata": {},
   "outputs": [],
   "source": [
    "import numpy as np\n",
    "embeddings_index = {}\n",
    "\n",
    "if use_embedding:\n",
    "    with open(data_path + 'glove.6B.50d.txt', 'r', encoding=\"utf-8\") as f:\n",
    "        for line in f:\n",
    "            values = line.split(' ')\n",
    "            word = values[0] ## The first entry is the word\n",
    "            coefs = np.asarray(values[1:], dtype='float32') ## These are the vecotrs representing the embedding for the word\n",
    "            embeddings_index[word] = coefs\n",
    "        f.close()\n",
    "    print('GloVe data loaded')\n",
    "    print(embeddings_index[\"'s\"])"
   ]
  },
  {
   "cell_type": "code",
   "execution_count": null,
   "metadata": {},
   "outputs": [],
   "source": [
    "word2idx = {w: i + 1 for i, w in enumerate(words)}\n",
    "word2idx[\"user\"]"
   ]
  },
  {
   "cell_type": "code",
   "execution_count": null,
   "metadata": {},
   "outputs": [],
   "source": [
    "tag2idx = {t: i for i, t in enumerate(tags)}\n",
    "# print(tag2idx['B-APP-ALG'])"
   ]
  },
  {
   "cell_type": "code",
   "execution_count": null,
   "metadata": {},
   "outputs": [],
   "source": [
    "pos2Idx = {p: i for i, p in enumerate(pos)}\n",
    "print(pos2Idx['NNP'])"
   ]
  },
  {
   "source": [
    "## Statistics"
   ],
   "cell_type": "markdown",
   "metadata": {}
  },
  {
   "cell_type": "code",
   "execution_count": null,
   "metadata": {},
   "outputs": [],
   "source": [
    "print(len(sentences))\n",
    "print(len(word2idx))\n",
    "print(len(tag2idx))"
   ]
  },
  {
   "source": [
    "## Generating X and Y\n",
    "To following sections will produce necessary data for training. First one uses GloVe embedding and second one does not"
   ],
   "cell_type": "markdown",
   "metadata": {}
  },
  {
   "cell_type": "code",
   "execution_count": null,
   "metadata": {
    "tags": []
   },
   "outputs": [],
   "source": [
    "from keras.preprocessing.sequence import pad_sequences\n",
    "from keras.utils import to_categorical\n",
    "import tensorflow as tf\n",
    "\n",
    "def encode_with_embedding(sentences):\n",
    "    max_words = 40\n",
    "    embedding_dim = embeddings_index.get('a').shape[0]\n",
    "\n",
    "    n_row = len(sentences)\n",
    "    n_word_dim = embedding_dim + n_pos\n",
    "    X = np.zeros((n_row, n_word_dim * max_words))\n",
    "    Y = []\n",
    "    for sent_idx, sent in enumerate(sentences):\n",
    "        Y_sent = np.tile(to_categorical(tag2idx[\"O\"], num_classes=n_tags), (n_word_dim * max_words, 1))\n",
    "        for word_idx, w in enumerate(w for w in sent[:max_words]):\n",
    "            embedding_vector = embeddings_index.get(w[0].lower()) \n",
    "            pos_vector = to_categorical(pos2Idx[w[1]], num_classes=n_pos) \n",
    "            word_encoded = np.append(embedding_vector, pos_vector)\n",
    "\n",
    "            for i in range(n_word_dim):   \n",
    "                X[sent_idx, i + word_idx * n_word_dim] = word_encoded[i]\n",
    "                Y_sent[i + word_idx * n_word_dim] = to_categorical(tag2idx[w[2]], num_classes=n_tags)\n",
    "        Y.append(Y_sent)\n",
    "\n",
    "    print(X.shape)\n",
    "    print(Y[0].shape)\n",
    "    print(len(Y))\n",
    "\n",
    "    return X, Y"
   ]
  },
  {
   "cell_type": "code",
   "execution_count": null,
   "metadata": {},
   "outputs": [],
   "source": [
    "from keras.preprocessing.sequence import pad_sequences\n",
    "from keras.utils import to_categorical\n",
    "\n",
    "def encode_no_embedding(sentences):\n",
    "    if encoding == 'word':\n",
    "        X = [[word2idx[w[0].lower()] for w in s] for s in sentences]\n",
    "    elif encoding == 'pos':\n",
    "        X = [[pos2Idx[w[1]] for w in s] for s in sentences]\n",
    "    X = pad_sequences(maxlen=max_len, sequences=X, padding=\"post\", value=0) \n",
    "\n",
    "    Y = [[tag2idx[w[2]] for w in s] for s in sentences]\n",
    "    Y = pad_sequences(maxlen=max_len, sequences=Y, padding=\"post\", value=tag2idx[\"O\"])\n",
    "    Y = [to_categorical(i, num_classes=n_tags) for i in Y]\n",
    "    \n",
    "    print('X:', X.shape)\n",
    "    print('Y:',Y[0].shape)\n",
    "\n",
    "    return X, Y"
   ]
  },
  {
   "source": [
    "## Define Model\n",
    "Model includes 3 layers:\n",
    "1. embedding\n",
    "2. BILSTM\n",
    "3. Linear Chain CRF"
   ],
   "cell_type": "markdown",
   "metadata": {}
  },
  {
   "cell_type": "code",
   "execution_count": null,
   "metadata": {},
   "outputs": [],
   "source": [
    "\n",
    "from keras.models import Model, Input, Sequential\n",
    "from keras.layers import LSTM, Embedding, Dense, TimeDistributed, Dropout, Bidirectional\n",
    "from keras_contrib.layers import CRF\n",
    "\n",
    "if use_embedding:\n",
    "    input_len = n_word_dim * max_words\n",
    "else:\n",
    "    input_len = max_len\n",
    "input = Input(shape=(input_len,))\n",
    "model = Embedding(input_dim=n_words + 1, output_dim=20,\n",
    "                  input_length=input_len, mask_zero=True, trainable=False)(input) \n",
    "model = Bidirectional(LSTM(units=50, return_sequences=True,\n",
    "                           recurrent_dropout=0.1))(model) \n",
    "model = TimeDistributed(Dense(50, activation=\"relu\"))(model) \n",
    "crf = CRF(n_tags) \n",
    "out = crf(model) \n",
    "\n",
    "  "
   ]
  },
  {
   "cell_type": "code",
   "execution_count": null,
   "metadata": {},
   "outputs": [],
   "source": [
    "model = Model(input, out)\n",
    "model.compile(optimizer=\"rmsprop\", loss=crf.loss_function, metrics=[crf.accuracy])\n",
    "model.summary()"
   ]
  },
  {
   "source": [
    "## Train the Model"
   ],
   "cell_type": "markdown",
   "metadata": {}
  },
  {
   "cell_type": "code",
   "execution_count": null,
   "metadata": {},
   "outputs": [],
   "source": [
    "from sklearn.model_selection import train_test_split\n",
    "if use_embedding:\n",
    "    X, Y = encode_with_embedding(sentences)\n",
    "else:\n",
    "    X, Y = encode_no_embedding(sentences)\n",
    "\n",
    "X_tr, X_te, y_tr, y_te = train_test_split(X, Y, test_size=0.001)\n",
    "# X_tr = X\n",
    "# Y_tr = Y\n",
    "# print(X_tr.shape, X_te.shape, y_tr[0].shape)\n",
    "history = model.fit(X_tr, np.array(y_tr), batch_size=1, epochs=50, validation_split=0.1, verbose=1)"
   ]
  },
  {
   "cell_type": "code",
   "execution_count": null,
   "metadata": {},
   "outputs": [],
   "source": [
    "hist = pd.DataFrame(history.history)\n",
    "print(hist)"
   ]
  },
  {
   "cell_type": "code",
   "execution_count": null,
   "metadata": {},
   "outputs": [],
   "source": [
    "import matplotlib.pyplot as plt\n",
    "plt.style.use(\"ggplot\")\n",
    "plt.figure(figsize=(12, 12))\n",
    "plt.plot(hist[\"crf_viterbi_accuracy\"])\n",
    "plt.plot(hist[\"val_crf_viterbi_accuracy\"])\n",
    "plt.show()"
   ]
  },
  {
   "source": [
    "## Testing"
   ],
   "cell_type": "markdown",
   "metadata": {}
  },
  {
   "cell_type": "code",
   "execution_count": null,
   "metadata": {},
   "outputs": [],
   "source": [
    "data = pd.read_csv(data_path + \"reqset-test-tagged.csv\", encoding=\"latin1\")\n",
    "data = data.fillna(value=np.NaN)\n",
    "data = data.dropna(thresh=2)\n",
    "data = data[data[tag].notnull()]\n",
    "data = data[[\"SENT\", \"WORD\", \"POS\", tag]]\n",
    "# print(data.tail(10))\n",
    "print(data.count)\n",
    "\n",
    "X_tr, X_te, y_tr, y_te = train_test_split(X, Y, test_size=0.001)"
   ]
  },
  {
   "cell_type": "code",
   "execution_count": null,
   "metadata": {},
   "outputs": [],
   "source": [
    "from seqeval.metrics import precision_score, recall_score, f1_score, classification_report\n",
    "test_pred = model.predict(X_tr, verbose=1)"
   ]
  },
  {
   "cell_type": "code",
   "execution_count": null,
   "metadata": {},
   "outputs": [],
   "source": [
    "%%HTML\n",
    "<style type=\"text/css\">\n",
    "table.dataframe td, table.dataframe th {\n",
    "    border: 1px  black solid !important;\n",
    "  color: black !important;\n",
    "}\n",
    "</style>"
   ]
  },
  {
   "source": [
    "## Model Performance"
   ],
   "cell_type": "markdown",
   "metadata": {}
  },
  {
   "cell_type": "code",
   "execution_count": null,
   "metadata": {
    "tags": []
   },
   "outputs": [],
   "source": [
    "idx2tag = {i: w for w, i in tag2idx.items()}\n",
    "\n",
    "def pred2label(pred):\n",
    "    out = []\n",
    "    for pred_i in pred:\n",
    "        out_i = []\n",
    "        for p in pred_i:\n",
    "            p_i = np.argmax(p)\n",
    "            out_i.append(idx2tag[p_i].replace(\"PAD\", \"O\"))\n",
    "        out.append(out_i)\n",
    "    return out   \n",
    "\n",
    "pred_labels = pred2label(test_pred)\n",
    "test_labels = pred2label(y_tr)\n",
    "\n",
    "f1_micro = f1_score(test_labels, pred_labels, average='micro')\n",
    "f1_macro = f1_score(test_labels, pred_labels, average='macro')\n",
    "f1_weighted = f1_score(test_labels, pred_labels, average='weighted')\n",
    "print(\"Micro F1-score: {:.2%}\".format(f1_micro))\n",
    "print(\"Macro F1-score: {:.2%}\".format(f1_macro))\n",
    "print(\"Weighted F1-score: {:.2%}\".format(f1_weighted))\n",
    "print(classification_report(test_labels, pred_labels))"
   ]
  },
  {
   "cell_type": "code",
   "execution_count": null,
   "metadata": {},
   "outputs": [],
   "source": [
    "i = 2\n",
    "p = model.predict(np.array([X_tr[i]]))\n",
    "p = np.argmax(p, axis=-1)\n",
    "true = np.argmax(y_tr[i], -1)\n",
    "print(\"{:15}||{:5}||{}\".format(\"Word\", \"True\", \"Pred\"))\n",
    "print(30 * \"=\")\n",
    "for w, t, pred in zip(X_tr[i], true, p[0]):\n",
    "    if w != 0:\n",
    "        print(\"{:15}: {:5} {}\".format(words[w-1], tags[t], tags[pred]))"
   ]
  },
  {
   "source": [
    "## Predict Labels for a Requirement"
   ],
   "cell_type": "markdown",
   "metadata": {}
  },
  {
   "cell_type": "code",
   "execution_count": null,
   "metadata": {},
   "outputs": [],
   "source": [
    "test_sentence = [\"if\", \"user\", \"picks\", \"the\", \"first\", \"choice\", \",\", \"he\", \"should\", \"be\", \"shown\", \"a\", \"white\", \"baloon\", \"below\", \"the\", \"text\"]\n",
    "x_test_sent = pad_sequences(sequences=[[word2idx.get(w, 0) for w in test_sentence]],\n",
    "                            padding=\"post\", value=0, maxlen=max_len)\n",
    "\n",
    "p = model.predict(np.array([x_test_sent[0]]))\n",
    "p = np.argmax(p, axis=-1)\n",
    "print(\"{:15}||{}\".format(\"Word\", \"Prediction\"))\n",
    "print(30 * \"=\")\n",
    "for w, pred in zip(test_sentence, p[0]):\n",
    "    print(\"{:15}: {:5}\".format(w, tags[pred]))"
   ]
  }
 ]
}